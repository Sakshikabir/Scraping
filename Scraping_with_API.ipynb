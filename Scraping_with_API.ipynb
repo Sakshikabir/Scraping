{
 "cells": [
  {
   "cell_type": "markdown",
   "id": "e6637830-c9b9-4b7f-ba61-95e3f611e6c6",
   "metadata": {},
   "source": [
    "# SCRAPING USING API"
   ]
  },
  {
   "cell_type": "code",
   "execution_count": 1,
   "id": "71ac0dde-92cd-4ba6-ba34-14eced7534cd",
   "metadata": {},
   "outputs": [],
   "source": [
    "# "
   ]
  },
  {
   "cell_type": "code",
   "execution_count": 2,
   "id": "3f9cdb5c-096f-4912-9105-6aa73bd25b89",
   "metadata": {},
   "outputs": [
    {
     "name": "stdout",
     "output_type": "stream",
     "text": [
      "{'latitude': 52.52, 'longitude': 13.419998, 'generationtime_ms': 0.0008344650268554688, 'utc_offset_seconds': 0, 'timezone': 'GMT', 'timezone_abbreviation': 'GMT', 'elevation': 38.0}\n"
     ]
    }
   ],
   "source": [
    "import requests\n",
    "\n",
    "\n",
    "url = \"https://api.open-meteo.com/v1/forecast\"\n",
    "params = {\n",
    "\t\"latitude\": 52.52,\n",
    "\t\"longitude\": 13.41\n",
    "}\n",
    "\n",
    "response = requests.get(url, params=params)\n",
    "response.raise_for_status()\n",
    "\n",
    "# Raw JSON data\n",
    "data = response.json()\n",
    "print(data)  # print only first 1"
   ]
  },
  {
   "cell_type": "code",
   "execution_count": 3,
   "id": "433adace-66cc-4e65-b9f9-a13fdd3f6fb2",
   "metadata": {
    "scrolled": true
   },
   "outputs": [
    {
     "name": "stdout",
     "output_type": "stream",
     "text": [
      "{'latitude': 51.52, 'longitude': 1.4199996, 'generationtime_ms': 0.033855438232421875, 'utc_offset_seconds': 0, 'timezone': 'GMT', 'timezone_abbreviation': 'GMT', 'elevation': 0.0, 'hourly_units': {'time': 'iso8601', 'temperature_2m': '°C'}, 'hourly': {'time': ['2025-09-15T00:00', '2025-09-15T01:00', '2025-09-15T02:00', '2025-09-15T03:00', '2025-09-15T04:00', '2025-09-15T05:00', '2025-09-15T06:00', '2025-09-15T07:00', '2025-09-15T08:00', '2025-09-15T09:00', '2025-09-15T10:00', '2025-09-15T11:00', '2025-09-15T12:00', '2025-09-15T13:00', '2025-09-15T14:00', '2025-09-15T15:00', '2025-09-15T16:00', '2025-09-15T17:00', '2025-09-15T18:00', '2025-09-15T19:00', '2025-09-15T20:00', '2025-09-15T21:00', '2025-09-15T22:00', '2025-09-15T23:00', '2025-09-16T00:00', '2025-09-16T01:00', '2025-09-16T02:00', '2025-09-16T03:00', '2025-09-16T04:00', '2025-09-16T05:00', '2025-09-16T06:00', '2025-09-16T07:00', '2025-09-16T08:00', '2025-09-16T09:00', '2025-09-16T10:00', '2025-09-16T11:00', '2025-09-16T12:00', '2025-09-16T13:00', '2025-09-16T14:00', '2025-09-16T15:00', '2025-09-16T16:00', '2025-09-16T17:00', '2025-09-16T18:00', '2025-09-16T19:00', '2025-09-16T20:00', '2025-09-16T21:00', '2025-09-16T22:00', '2025-09-16T23:00', '2025-09-17T00:00', '2025-09-17T01:00', '2025-09-17T02:00', '2025-09-17T03:00', '2025-09-17T04:00', '2025-09-17T05:00', '2025-09-17T06:00', '2025-09-17T07:00', '2025-09-17T08:00', '2025-09-17T09:00', '2025-09-17T10:00', '2025-09-17T11:00', '2025-09-17T12:00', '2025-09-17T13:00', '2025-09-17T14:00', '2025-09-17T15:00', '2025-09-17T16:00', '2025-09-17T17:00', '2025-09-17T18:00', '2025-09-17T19:00', '2025-09-17T20:00', '2025-09-17T21:00', '2025-09-17T22:00', '2025-09-17T23:00', '2025-09-18T00:00', '2025-09-18T01:00', '2025-09-18T02:00', '2025-09-18T03:00', '2025-09-18T04:00', '2025-09-18T05:00', '2025-09-18T06:00', '2025-09-18T07:00', '2025-09-18T08:00', '2025-09-18T09:00', '2025-09-18T10:00', '2025-09-18T11:00', '2025-09-18T12:00', '2025-09-18T13:00', '2025-09-18T14:00', '2025-09-18T15:00', '2025-09-18T16:00', '2025-09-18T17:00', '2025-09-18T18:00', '2025-09-18T19:00', '2025-09-18T20:00', '2025-09-18T21:00', '2025-09-18T22:00', '2025-09-18T23:00', '2025-09-19T00:00', '2025-09-19T01:00', '2025-09-19T02:00', '2025-09-19T03:00', '2025-09-19T04:00', '2025-09-19T05:00', '2025-09-19T06:00', '2025-09-19T07:00', '2025-09-19T08:00', '2025-09-19T09:00', '2025-09-19T10:00', '2025-09-19T11:00', '2025-09-19T12:00', '2025-09-19T13:00', '2025-09-19T14:00', '2025-09-19T15:00', '2025-09-19T16:00', '2025-09-19T17:00', '2025-09-19T18:00', '2025-09-19T19:00', '2025-09-19T20:00', '2025-09-19T21:00', '2025-09-19T22:00', '2025-09-19T23:00', '2025-09-20T00:00', '2025-09-20T01:00', '2025-09-20T02:00', '2025-09-20T03:00', '2025-09-20T04:00', '2025-09-20T05:00', '2025-09-20T06:00', '2025-09-20T07:00', '2025-09-20T08:00', '2025-09-20T09:00', '2025-09-20T10:00', '2025-09-20T11:00', '2025-09-20T12:00', '2025-09-20T13:00', '2025-09-20T14:00', '2025-09-20T15:00', '2025-09-20T16:00', '2025-09-20T17:00', '2025-09-20T18:00', '2025-09-20T19:00', '2025-09-20T20:00', '2025-09-20T21:00', '2025-09-20T22:00', '2025-09-20T23:00', '2025-09-21T00:00', '2025-09-21T01:00', '2025-09-21T02:00', '2025-09-21T03:00', '2025-09-21T04:00', '2025-09-21T05:00', '2025-09-21T06:00', '2025-09-21T07:00', '2025-09-21T08:00', '2025-09-21T09:00', '2025-09-21T10:00', '2025-09-21T11:00', '2025-09-21T12:00', '2025-09-21T13:00', '2025-09-21T14:00', '2025-09-21T15:00', '2025-09-21T16:00', '2025-09-21T17:00', '2025-09-21T18:00', '2025-09-21T19:00', '2025-09-21T20:00', '2025-09-21T21:00', '2025-09-21T22:00', '2025-09-21T23:00'], 'temperature_2m': [17.8, 17.3, 17.2, 16.9, 16.5, 16.2, 16.2, 16.2, 16.4, 16.7, 17.1, 17.5, 17.9, 18.0, 18.0, 18.0, 18.0, 17.7, 17.5, 17.2, 16.8, 16.4, 16.1, 15.9, 15.6, 15.4, 15.2, 15.0, 14.9, 14.9, 14.8, 14.6, 14.8, 15.1, 15.4, 15.9, 16.7, 16.8, 17.2, 17.5, 17.8, 18.0, 17.6, 17.1, 16.6, 16.3, 16.1, 15.9, 15.6, 15.2, 14.9, 14.9, 15.3, 15.6, 15.7, 16.2, 16.7, 16.9, 17.1, 17.5, 17.8, 18.2, 18.5, 18.6, 18.8, 19.0, 18.9, 18.9, 18.7, 18.5, 18.2, 17.9, 17.5, 17.2, 16.9, 16.8, 16.6, 16.5, 16.6, 16.9, 17.4, 18.0, 19.4, 19.8, 20.0, 20.2, 20.4, 20.3, 20.0, 19.7, 19.3, 18.9, 18.5, 18.2, 18.0, 17.9, 17.8, 17.6, 17.6, 17.6, 17.6, 17.7, 17.9, 18.0, 18.2, 18.5, 18.9, 19.3, 19.6, 19.9, 20.1, 20.2, 20.3, 20.3, 20.2, 20.1, 19.9, 19.6, 19.5, 19.2, 19.1, 18.9, 18.7, 18.5, 18.3, 18.1, 18.0, 19.2, 19.2, 19.3, 19.7, 20.2, 20.6, 20.7, 20.7, 20.6, 20.6, 20.5, 20.4, 20.0, 19.5, 19.1, 18.8, 18.6, 18.5, 18.4, 18.5, 18.5, 18.7, 18.9, 19.0, 18.9, 18.8, 18.9, 19.5, 20.4, 20.9, 20.8, 20.4, 19.9, 19.6, 19.2, 19.0, 18.6, 18.2, 17.9, 17.6, 17.5]}}\n"
     ]
    }
   ],
   "source": [
    "\n",
    "params = {\n",
    "    \"latitude\": 51.52,\n",
    "\t\"longitude\": 1.41,\n",
    "\t\"hourly\": \"temperature_2m\"\t\n",
    "}\n",
    "\n",
    "response = requests.get(url, params=params)\n",
    "response.raise_for_status()\n",
    "\n",
    "# Raw JSON data\n",
    "data2 = response.json()\n",
    "print(data2)  "
   ]
  },
  {
   "cell_type": "code",
   "execution_count": 4,
   "id": "37aab1d0-9235-4f35-a62e-221609b6ac7d",
   "metadata": {},
   "outputs": [
    {
     "name": "stdout",
     "output_type": "stream",
     "text": [
      "{'latitude': 11.625, 'longitude': 31.25, 'generationtime_ms': 0.00095367431640625, 'utc_offset_seconds': 0, 'timezone': 'GMT', 'timezone_abbreviation': 'GMT', 'elevation': 703.0}\n"
     ]
    }
   ],
   "source": [
    "params = {\n",
    "    \"latitude\": 11.52,\n",
    "\t\"longitude\": 31.41,\n",
    "    \"&current_weather\": \"true\",\n",
    "\t\n",
    "}\n",
    "\n",
    "response = requests.get(url, params=params)\n",
    "response.raise_for_status()\n",
    "\n",
    "# Raw JSON data\n",
    "data3 = response.json()\n",
    "print(data3) "
   ]
  },
  {
   "cell_type": "code",
   "execution_count": 5,
   "id": "78194f50-36ba-4ce2-a5d2-b9c28975dd26",
   "metadata": {},
   "outputs": [
    {
     "name": "stdout",
     "output_type": "stream",
     "text": [
      "{'latitude': 11.625, 'longitude': 31.25, 'generationtime_ms': 0.0010728836059570312, 'utc_offset_seconds': 0, 'timezone': 'GMT', 'timezone_abbreviation': 'GMT', 'elevation': 703.0}\n"
     ]
    }
   ],
   "source": [
    "params = {\n",
    "    \"latitude\": 11.52,\n",
    "\t\"longitude\": 31.41,\n",
    "    \"&forecaste_days\" : 3,\n",
    "\n",
    "}\n",
    "\n",
    "response = requests.get(url, params=params)\n",
    "response.raise_for_status()\n",
    "\n",
    "# Raw JSON data\n",
    "data4 = response.json()\n",
    "print(data4) "
   ]
  },
  {
   "cell_type": "code",
   "execution_count": 6,
   "id": "f174e70e-b66a-468c-bea4-fba68e5a7453",
   "metadata": {},
   "outputs": [
    {
     "name": "stdout",
     "output_type": "stream",
     "text": [
      "{'latitude': 11.625, 'longitude': 31.25, 'generationtime_ms': 0.00095367431640625, 'utc_offset_seconds': 0, 'timezone': 'GMT', 'timezone_abbreviation': 'GMT', 'elevation': 703.0}\n"
     ]
    }
   ],
   "source": [
    "params = {\n",
    "    \"latitude\": 11.52,\n",
    "\t\"longitude\": 31.41,\n",
    "    \"&forecaste_days\" : 3,\n",
    "    \"&timezone\" : \"Europe/Berlin\"\n",
    "\t\n",
    "}\n",
    "\n",
    "response = requests.get(url, params=params)\n",
    "response.raise_for_status()\n",
    "\n",
    "# Raw JSON data\n",
    "data5 = response.json()\n",
    "print(data5) "
   ]
  },
  {
   "cell_type": "code",
   "execution_count": 7,
   "id": "af7f15aa-6c76-440f-8781-b412fba77846",
   "metadata": {},
   "outputs": [],
   "source": [
    "columns= [\n",
    "    \"latitude\",\n",
    "    \"longitude\",\n",
    "    \"generationtime_ms\",\n",
    "    \"utc_offset_seconds\",\n",
    "    'timezone',\n",
    "    'timezone_abbreviation',\n",
    "    'elevation'\n",
    "]\n",
    "    "
   ]
  },
  {
   "cell_type": "code",
   "execution_count": 8,
   "id": "70bbffa4-a4ee-4b02-925d-d1b79fc9522f",
   "metadata": {},
   "outputs": [],
   "source": [
    "import pandas as pd"
   ]
  },
  {
   "cell_type": "code",
   "execution_count": 11,
   "id": "102db342-f991-4dd7-8f3b-13f86f0dd5f0",
   "metadata": {},
   "outputs": [],
   "source": [
    "df = pd.DataFrame(columns = columns, data = [data, data2, data3, data4, data5])"
   ]
  },
  {
   "cell_type": "code",
   "execution_count": 12,
   "id": "7456a35f-5965-4858-bb0b-81b6aeda6f39",
   "metadata": {},
   "outputs": [
    {
     "data": {
      "text/html": [
       "<div>\n",
       "<style scoped>\n",
       "    .dataframe tbody tr th:only-of-type {\n",
       "        vertical-align: middle;\n",
       "    }\n",
       "\n",
       "    .dataframe tbody tr th {\n",
       "        vertical-align: top;\n",
       "    }\n",
       "\n",
       "    .dataframe thead th {\n",
       "        text-align: right;\n",
       "    }\n",
       "</style>\n",
       "<table border=\"1\" class=\"dataframe\">\n",
       "  <thead>\n",
       "    <tr style=\"text-align: right;\">\n",
       "      <th></th>\n",
       "      <th>latitude</th>\n",
       "      <th>longitude</th>\n",
       "      <th>generationtime_ms</th>\n",
       "      <th>utc_offset_seconds</th>\n",
       "      <th>timezone</th>\n",
       "      <th>timezone_abbreviation</th>\n",
       "      <th>elevation</th>\n",
       "    </tr>\n",
       "  </thead>\n",
       "  <tbody>\n",
       "    <tr>\n",
       "      <th>0</th>\n",
       "      <td>52.520</td>\n",
       "      <td>13.419998</td>\n",
       "      <td>0.000834</td>\n",
       "      <td>0</td>\n",
       "      <td>GMT</td>\n",
       "      <td>GMT</td>\n",
       "      <td>38.0</td>\n",
       "    </tr>\n",
       "    <tr>\n",
       "      <th>1</th>\n",
       "      <td>51.520</td>\n",
       "      <td>1.420000</td>\n",
       "      <td>0.033855</td>\n",
       "      <td>0</td>\n",
       "      <td>GMT</td>\n",
       "      <td>GMT</td>\n",
       "      <td>0.0</td>\n",
       "    </tr>\n",
       "    <tr>\n",
       "      <th>2</th>\n",
       "      <td>11.625</td>\n",
       "      <td>31.250000</td>\n",
       "      <td>0.000954</td>\n",
       "      <td>0</td>\n",
       "      <td>GMT</td>\n",
       "      <td>GMT</td>\n",
       "      <td>703.0</td>\n",
       "    </tr>\n",
       "    <tr>\n",
       "      <th>3</th>\n",
       "      <td>11.625</td>\n",
       "      <td>31.250000</td>\n",
       "      <td>0.001073</td>\n",
       "      <td>0</td>\n",
       "      <td>GMT</td>\n",
       "      <td>GMT</td>\n",
       "      <td>703.0</td>\n",
       "    </tr>\n",
       "    <tr>\n",
       "      <th>4</th>\n",
       "      <td>11.625</td>\n",
       "      <td>31.250000</td>\n",
       "      <td>0.000954</td>\n",
       "      <td>0</td>\n",
       "      <td>GMT</td>\n",
       "      <td>GMT</td>\n",
       "      <td>703.0</td>\n",
       "    </tr>\n",
       "  </tbody>\n",
       "</table>\n",
       "</div>"
      ],
      "text/plain": [
       "   latitude  longitude  generationtime_ms  utc_offset_seconds timezone  \\\n",
       "0    52.520  13.419998           0.000834                   0      GMT   \n",
       "1    51.520   1.420000           0.033855                   0      GMT   \n",
       "2    11.625  31.250000           0.000954                   0      GMT   \n",
       "3    11.625  31.250000           0.001073                   0      GMT   \n",
       "4    11.625  31.250000           0.000954                   0      GMT   \n",
       "\n",
       "  timezone_abbreviation  elevation  \n",
       "0                   GMT       38.0  \n",
       "1                   GMT        0.0  \n",
       "2                   GMT      703.0  \n",
       "3                   GMT      703.0  \n",
       "4                   GMT      703.0  "
      ]
     },
     "execution_count": 12,
     "metadata": {},
     "output_type": "execute_result"
    }
   ],
   "source": [
    "df"
   ]
  },
  {
   "cell_type": "code",
   "execution_count": null,
   "id": "2d9f5135-28c8-41bc-8a11-43a0e63ca497",
   "metadata": {},
   "outputs": [],
   "source": []
  }
 ],
 "metadata": {
  "kernelspec": {
   "display_name": "Python 3 (ipykernel)",
   "language": "python",
   "name": "python3"
  },
  "language_info": {
   "codemirror_mode": {
    "name": "ipython",
    "version": 3
   },
   "file_extension": ".py",
   "mimetype": "text/x-python",
   "name": "python",
   "nbconvert_exporter": "python",
   "pygments_lexer": "ipython3",
   "version": "3.12.7"
  }
 },
 "nbformat": 4,
 "nbformat_minor": 5
}
