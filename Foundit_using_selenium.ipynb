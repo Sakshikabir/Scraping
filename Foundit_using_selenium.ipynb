{
 "cells": [
  {
   "cell_type": "markdown",
   "id": "528f3348-c7fb-48ca-835c-48a66f668f9f",
   "metadata": {},
   "source": [
    "<div style=\"background-color: #01377D; padding: 10px; text-align: center; color: white; font-size: 32px; font-family: 'Arial', sans-serif;\">\n",
    "    Python Web Scraping Using Selenium and Beautiful Soup <br><br>\n",
    "    \n",
    "</div>"
   ]
  },
  {
   "cell_type": "markdown",
   "id": "1af06944-e553-44e4-bb96-b4b664c15a3c",
   "metadata": {},
   "source": [
    "## What is Web Scraping?\n",
    "\n",
    "- Web scraping is the process of extracting data from websites automatically using programs or scripts.\n",
    "\n",
    "- Instead of manually copying, we let code fetch HTML data, parse it, and extract the required info."
   ]
  },
  {
   "cell_type": "markdown",
   "id": "f603e932-808d-4b3d-8260-fac23ddeed41",
   "metadata": {},
   "source": [
    "### What is Selenium and Beautiful Soup?"
   ]
  },
  {
   "cell_type": "markdown",
   "id": "bbf7fd0e-d80a-426e-b45c-1a9ad0cc66d1",
   "metadata": {},
   "source": [
    "- When we’re talking about web scraping in Python, two of the most widely used tools are Selenium and Beautiful Soup. Each serves a unique purpose, and together, they form a powerful duo for extracting data from both static and dynamic websites."
   ]
  },
  {
   "cell_type": "markdown",
   "id": "4b61f949-0d80-45f7-a782-fc88830fcf6a",
   "metadata": {},
   "source": [
    "## 1. BeautifulSoup (bs4)\n",
    "\n",
    "- A Python library for parsing HTML/XML documents.\n",
    "\n",
    "- It cannot load JavaScript dynamically.\n",
    "\n",
    "- Works best on static websites (where HTML source already has the data).\n",
    "\n",
    "### 👉 Example workflow:\n",
    "\n",
    "- Get page source (via requests or Selenium).\n",
    "\n",
    "- Parse it using BeautifulSoup.\n",
    "\n",
    "- Extract data using tags, classes, IDs, etc.\n",
    "\n"
   ]
  },
  {
   "cell_type": "markdown",
   "id": "c791859f-e5ab-44ff-a3b6-512bd24c048e",
   "metadata": {},
   "source": [
    "## 2. Selenium\n",
    "\n",
    "- A Python automation tool for controlling a browser (Chrome, Firefox, etc.).\n",
    "\n",
    "- Can interact with dynamic websites (JavaScript-rendered content, buttons, scrolling, login).\n",
    "\n",
    "- Useful when data doesn’t appear in HTML source directly.\n",
    "\n",
    "### 👉 Features:\n",
    "\n",
    "- Automates clicks, scrolls, forms.\n",
    "\n",
    "- Waits for elements to load (WebDriverWait).\n",
    "\n",
    "- Then we can fetch page_source and use BeautifulSoup to parse."
   ]
  },
  {
   "cell_type": "markdown",
   "id": "bafef94e-f7c2-49c7-ac8c-514abd93bace",
   "metadata": {},
   "source": [
    "## 3. Selenium + BeautifulSoup Workflow\n",
    "\n",
    "- This is the most common combo:\n",
    "\n",
    "- Selenium → loads the website & executes JavaScript.\n",
    "\n",
    "- Selenium → grabs HTML (driver.page_source).\n",
    "\n",
    "- BeautifulSoup → parses that HTML and extracts structured data."
   ]
  },
  {
   "cell_type": "markdown",
   "id": "1ee9b6ec-08e3-4820-a3e7-1ff15d076a50",
   "metadata": {},
   "source": [
    "## importing libraries"
   ]
  },
  {
   "cell_type": "code",
   "execution_count": 1,
   "id": "3921ea5e-926a-47c8-8fb5-bb071d35222d",
   "metadata": {
    "scrolled": true
   },
   "outputs": [
    {
     "name": "stdout",
     "output_type": "stream",
     "text": [
      "Defaulting to user installation because normal site-packages is not writeable\n",
      "Requirement already satisfied: selenium in c:\\users\\hp\\appdata\\roaming\\python\\python312\\site-packages (4.35.0)\n",
      "Requirement already satisfied: urllib3<3.0,>=2.5.0 in c:\\users\\hp\\appdata\\roaming\\python\\python312\\site-packages (from urllib3[socks]<3.0,>=2.5.0->selenium) (2.5.0)\n",
      "Requirement already satisfied: trio~=0.30.0 in c:\\users\\hp\\appdata\\roaming\\python\\python312\\site-packages (from selenium) (0.30.0)\n",
      "Requirement already satisfied: trio-websocket~=0.12.2 in c:\\users\\hp\\appdata\\roaming\\python\\python312\\site-packages (from selenium) (0.12.2)\n",
      "Requirement already satisfied: certifi>=2025.6.15 in c:\\users\\hp\\appdata\\roaming\\python\\python312\\site-packages (from selenium) (2025.8.3)\n",
      "Requirement already satisfied: typing_extensions~=4.14.0 in c:\\users\\hp\\appdata\\roaming\\python\\python312\\site-packages (from selenium) (4.14.1)\n",
      "Requirement already satisfied: websocket-client~=1.8.0 in c:\\programdata\\anaconda3\\lib\\site-packages (from selenium) (1.8.0)\n",
      "Requirement already satisfied: attrs>=23.2.0 in c:\\users\\hp\\appdata\\roaming\\python\\python312\\site-packages (from trio~=0.30.0->selenium) (25.3.0)\n",
      "Requirement already satisfied: sortedcontainers in c:\\programdata\\anaconda3\\lib\\site-packages (from trio~=0.30.0->selenium) (2.4.0)\n",
      "Requirement already satisfied: idna in c:\\programdata\\anaconda3\\lib\\site-packages (from trio~=0.30.0->selenium) (3.7)\n",
      "Requirement already satisfied: outcome in c:\\users\\hp\\appdata\\roaming\\python\\python312\\site-packages (from trio~=0.30.0->selenium) (1.3.0.post0)\n",
      "Requirement already satisfied: sniffio>=1.3.0 in c:\\programdata\\anaconda3\\lib\\site-packages (from trio~=0.30.0->selenium) (1.3.0)\n",
      "Requirement already satisfied: cffi>=1.14 in c:\\programdata\\anaconda3\\lib\\site-packages (from trio~=0.30.0->selenium) (1.17.1)\n",
      "Requirement already satisfied: wsproto>=0.14 in c:\\users\\hp\\appdata\\roaming\\python\\python312\\site-packages (from trio-websocket~=0.12.2->selenium) (1.2.0)\n",
      "Requirement already satisfied: pysocks!=1.5.7,<2.0,>=1.5.6 in c:\\programdata\\anaconda3\\lib\\site-packages (from urllib3[socks]<3.0,>=2.5.0->selenium) (1.7.1)\n",
      "Requirement already satisfied: pycparser in c:\\programdata\\anaconda3\\lib\\site-packages (from cffi>=1.14->trio~=0.30.0->selenium) (2.21)\n",
      "Requirement already satisfied: h11<1,>=0.9.0 in c:\\programdata\\anaconda3\\lib\\site-packages (from wsproto>=0.14->trio-websocket~=0.12.2->selenium) (0.14.0)\n"
     ]
    }
   ],
   "source": [
    "!pip install selenium"
   ]
  },
  {
   "cell_type": "code",
   "execution_count": 2,
   "id": "3ed322c1-0604-4a1c-ab86-a1c6abca2096",
   "metadata": {},
   "outputs": [
    {
     "name": "stdout",
     "output_type": "stream",
     "text": [
      "Defaulting to user installation because normal site-packages is not writeable\n",
      "Requirement already satisfied: webdriver-manager in c:\\users\\hp\\appdata\\roaming\\python\\python312\\site-packages (4.0.2)\n",
      "Requirement already satisfied: requests in c:\\programdata\\anaconda3\\lib\\site-packages (from webdriver-manager) (2.32.3)\n",
      "Requirement already satisfied: python-dotenv in c:\\programdata\\anaconda3\\lib\\site-packages (from webdriver-manager) (0.21.0)\n",
      "Requirement already satisfied: packaging in c:\\programdata\\anaconda3\\lib\\site-packages (from webdriver-manager) (24.1)\n",
      "Requirement already satisfied: charset-normalizer<4,>=2 in c:\\programdata\\anaconda3\\lib\\site-packages (from requests->webdriver-manager) (3.3.2)\n",
      "Requirement already satisfied: idna<4,>=2.5 in c:\\programdata\\anaconda3\\lib\\site-packages (from requests->webdriver-manager) (3.7)\n",
      "Requirement already satisfied: urllib3<3,>=1.21.1 in c:\\users\\hp\\appdata\\roaming\\python\\python312\\site-packages (from requests->webdriver-manager) (2.5.0)\n",
      "Requirement already satisfied: certifi>=2017.4.17 in c:\\users\\hp\\appdata\\roaming\\python\\python312\\site-packages (from requests->webdriver-manager) (2025.8.3)\n"
     ]
    }
   ],
   "source": [
    "!pip install webdriver-manager"
   ]
  },
  {
   "cell_type": "code",
   "execution_count": 3,
   "id": "3810ad43-b7c0-45e7-9657-f7eb3531b674",
   "metadata": {},
   "outputs": [],
   "source": [
    "from selenium import webdriver \n",
    "from selenium.webdriver.chrome.service import Service\n",
    "from selenium.webdriver.chrome.options import Options\n",
    "from selenium.webdriver.common.by import By\n",
    "from selenium.webdriver.support.ui import WebDriverWait\n",
    "from selenium.webdriver.support import expected_conditions as EC\n",
    "from webdriver_manager.chrome import ChromeDriverManager\n",
    "from bs4 import BeautifulSoup\n",
    "import pandas as pd"
   ]
  },
  {
   "cell_type": "code",
   "execution_count": 4,
   "id": "7a15b450-d13f-45fd-9ae1-d3456223c953",
   "metadata": {},
   "outputs": [],
   "source": [
    "chrome_options = Options()                         #Creates a configuration object for Chrome.\n",
    "chrome_options.add_argument(\"--headless\")  \n",
    "chrome_options.add_argument(\n",
    "    \"user-agent=Mozilla/5.0 (Windows NT 10.0; Win64; x64) AppleWebKit/537.36 (KHTML, like Gecko) Chrome/131.0.6778.265 Safari/537.36\"\n",
    ")"
   ]
  },
  {
   "cell_type": "code",
   "execution_count": 5,
   "id": "ba301828-0373-4db2-a585-76a724416e37",
   "metadata": {},
   "outputs": [],
   "source": [
    "service = Service(ChromeDriverManager().install())\n",
    "driver = webdriver.Chrome(service=service, options=chrome_options)"
   ]
  },
  {
   "cell_type": "code",
   "execution_count": 6,
   "id": "f6f8e4f1-add2-4bac-b445-a14be524a557",
   "metadata": {},
   "outputs": [],
   "source": [
    "url = \"https://www.foundit.in/search/software-engineer-jobs\"\n",
    "driver.get(url)"
   ]
  },
  {
   "cell_type": "code",
   "execution_count": 7,
   "id": "5f4e1c9d-d304-484f-81c6-53e124e3c466",
   "metadata": {},
   "outputs": [],
   "source": [
    "# WebDriverWait(driver, 30).until(\n",
    "#         EC.presence_of_element_located((By.CLASS_NAME, \"flex w-full flex-col gap-3\"))\n",
    "#     )"
   ]
  },
  {
   "cell_type": "code",
   "execution_count": 8,
   "id": "a30d67bf-6351-4772-b91d-399045353dbf",
   "metadata": {},
   "outputs": [],
   "source": [
    "# WebDriverWait(driver, 30).until(\n",
    "#         EC.presence_of_element_located((By.CLASS_NAME, \"h3\"))\n",
    "#     )"
   ]
  },
  {
   "cell_type": "code",
   "execution_count": 9,
   "id": "e1ae6340-688d-45f2-a0b1-c1abbf4c4fc9",
   "metadata": {},
   "outputs": [],
   "source": [
    "# WebDriverWait(driver, 30).until(\n",
    "#         EC.presence_of_element_located((By.CLASS_NAME, \"div\"))\n",
    "#     )"
   ]
  },
  {
   "cell_type": "code",
   "execution_count": 10,
   "id": "68448298-4add-47d3-870a-9ab8a41a0f06",
   "metadata": {},
   "outputs": [],
   "source": [
    "# WebDriverWait(driver, 30).until(\n",
    "#         EC.presence_of_element_located((By_XPATH,\"//h3\"))\n",
    "#     )"
   ]
  },
  {
   "cell_type": "code",
   "execution_count": 11,
   "id": "1fb896ee-98c9-4445-a0ad-a8084a50194c",
   "metadata": {},
   "outputs": [
    {
     "data": {
      "text/plain": [
       "<selenium.webdriver.remote.webelement.WebElement (session=\"e361be1e422d75c7b896f3a87978c1d1\", element=\"f.C18EA7468A86EA0DCF7DBBD3C6171620.d.F1435AEDFCF557D1866D051493069765.e.62\")>"
      ]
     },
     "execution_count": 11,
     "metadata": {},
     "output_type": "execute_result"
    }
   ],
   "source": [
    "WebDriverWait(driver, 30).until(\n",
    "        EC.presence_of_element_located((By.CLASS_NAME, \"text-darkKnight-700\"))\n",
    "    )"
   ]
  },
  {
   "cell_type": "code",
   "execution_count": 12,
   "id": "c5f70cec-4195-40c6-948c-748cbaa4f080",
   "metadata": {},
   "outputs": [],
   "source": [
    "# WebDriverWait(driver, 30).until(\n",
    "#         EC.presence_of_element_located((By.CLASS_NAME, \"flex flex-col gap-4 rounded-2xl border-opacity-50 p-4 relative w-auto cursor-pointer border border-solid border-jobCardBorder bg-surface-primary-normal shadow-job-card hover:shadow-job-card-hover md:!w-[570px]q\"))\n",
    "#     )"
   ]
  },
  {
   "cell_type": "code",
   "execution_count": 13,
   "id": "57b01d51-eb55-499e-9a87-b6726fa9c7e6",
   "metadata": {},
   "outputs": [],
   "source": [
    "html = driver.page_source\n",
    "soup = BeautifulSoup(html, \"html.parser\")"
   ]
  },
  {
   "cell_type": "code",
   "execution_count": 19,
   "id": "68f0f201-12aa-475d-956b-a3b6c883bfb7",
   "metadata": {},
   "outputs": [
    {
     "name": "stdout",
     "output_type": "stream",
     "text": [
      "Top Job Profiles:\n",
      "1. Software Engineer\n",
      "2. Software Engineer III\n",
      "3. Senior Java Software Engineer\n",
      "4. Senior Software Engineer\n",
      "5. Software Engineer Java\n",
      "6. Software Engineer Java\n",
      "7. Software Engineer Java\n",
      "8. Staff Software Engineer\n",
      "9. Software Engineer Java Fullstack\n",
      "10. Software Engineer Java Fullstack\n",
      "11. Software Engineer Java Fullstack\n",
      "12. Software Engineer Java Fullstack\n",
      "13. Software Engineer Java Fullstack\n",
      "14. Software Engineer Java Fullstack\n",
      "15. Senior Software Engineer Java Fullstack\n"
     ]
    }
   ],
   "source": [
    "job_profiles_section = soup.find_all('h3', class_='text-darkKnight-700')\n",
    "\n",
    "print(\"Top Job Profiles:\")\n",
    "for i, job in enumerate(job_profiles_section[:15], start=1):\n",
    "    print(f\"{i}. {job.text.strip()}\")"
   ]
  },
  {
   "cell_type": "code",
   "execution_count": 20,
   "id": "9bbca2ed-4980-47a8-82e7-fce46cb03251",
   "metadata": {},
   "outputs": [],
   "source": [
    "column=[\n",
    "    'Top Job Profiles'\n",
    "]"
   ]
  },
  {
   "cell_type": "code",
   "execution_count": 21,
   "id": "406c8be5-8a4e-4a61-842a-17ed5b53fc4b",
   "metadata": {},
   "outputs": [
    {
     "data": {
      "text/html": [
       "<div>\n",
       "<style scoped>\n",
       "    .dataframe tbody tr th:only-of-type {\n",
       "        vertical-align: middle;\n",
       "    }\n",
       "\n",
       "    .dataframe tbody tr th {\n",
       "        vertical-align: top;\n",
       "    }\n",
       "\n",
       "    .dataframe thead th {\n",
       "        text-align: right;\n",
       "    }\n",
       "</style>\n",
       "<table border=\"1\" class=\"dataframe\">\n",
       "  <thead>\n",
       "    <tr style=\"text-align: right;\">\n",
       "      <th></th>\n",
       "      <th>Top Job Profiles</th>\n",
       "    </tr>\n",
       "  </thead>\n",
       "  <tbody>\n",
       "    <tr>\n",
       "      <th>0</th>\n",
       "      <td>Software Engineer</td>\n",
       "    </tr>\n",
       "    <tr>\n",
       "      <th>1</th>\n",
       "      <td>Software Engineer III</td>\n",
       "    </tr>\n",
       "    <tr>\n",
       "      <th>2</th>\n",
       "      <td>Senior Java Software Engineer</td>\n",
       "    </tr>\n",
       "    <tr>\n",
       "      <th>3</th>\n",
       "      <td>Senior Software Engineer</td>\n",
       "    </tr>\n",
       "    <tr>\n",
       "      <th>4</th>\n",
       "      <td>Software Engineer Java</td>\n",
       "    </tr>\n",
       "    <tr>\n",
       "      <th>5</th>\n",
       "      <td>Software Engineer Java</td>\n",
       "    </tr>\n",
       "    <tr>\n",
       "      <th>6</th>\n",
       "      <td>Software Engineer Java</td>\n",
       "    </tr>\n",
       "    <tr>\n",
       "      <th>7</th>\n",
       "      <td>Staff Software Engineer</td>\n",
       "    </tr>\n",
       "    <tr>\n",
       "      <th>8</th>\n",
       "      <td>Software Engineer Java Fullstack</td>\n",
       "    </tr>\n",
       "    <tr>\n",
       "      <th>9</th>\n",
       "      <td>Software Engineer Java Fullstack</td>\n",
       "    </tr>\n",
       "    <tr>\n",
       "      <th>10</th>\n",
       "      <td>Software Engineer Java Fullstack</td>\n",
       "    </tr>\n",
       "    <tr>\n",
       "      <th>11</th>\n",
       "      <td>Software Engineer Java Fullstack</td>\n",
       "    </tr>\n",
       "    <tr>\n",
       "      <th>12</th>\n",
       "      <td>Software Engineer Java Fullstack</td>\n",
       "    </tr>\n",
       "    <tr>\n",
       "      <th>13</th>\n",
       "      <td>Software Engineer Java Fullstack</td>\n",
       "    </tr>\n",
       "    <tr>\n",
       "      <th>14</th>\n",
       "      <td>Senior Software Engineer Java Fullstack</td>\n",
       "    </tr>\n",
       "    <tr>\n",
       "      <th>15</th>\n",
       "      <td>Senior Software Engineer Java Fullstack</td>\n",
       "    </tr>\n",
       "    <tr>\n",
       "      <th>16</th>\n",
       "      <td>Software Engineer</td>\n",
       "    </tr>\n",
       "    <tr>\n",
       "      <th>17</th>\n",
       "      <td>Software Engineer</td>\n",
       "    </tr>\n",
       "    <tr>\n",
       "      <th>18</th>\n",
       "      <td>Senior Software Engineer</td>\n",
       "    </tr>\n",
       "    <tr>\n",
       "      <th>19</th>\n",
       "      <td>Senior Software Engineer Salesforce</td>\n",
       "    </tr>\n",
       "  </tbody>\n",
       "</table>\n",
       "</div>"
      ],
      "text/plain": [
       "                           Top Job Profiles\n",
       "0                         Software Engineer\n",
       "1                     Software Engineer III\n",
       "2             Senior Java Software Engineer\n",
       "3                  Senior Software Engineer\n",
       "4                    Software Engineer Java\n",
       "5                    Software Engineer Java\n",
       "6                    Software Engineer Java\n",
       "7                   Staff Software Engineer\n",
       "8          Software Engineer Java Fullstack\n",
       "9          Software Engineer Java Fullstack\n",
       "10         Software Engineer Java Fullstack\n",
       "11         Software Engineer Java Fullstack\n",
       "12         Software Engineer Java Fullstack\n",
       "13         Software Engineer Java Fullstack\n",
       "14  Senior Software Engineer Java Fullstack\n",
       "15  Senior Software Engineer Java Fullstack\n",
       "16                        Software Engineer\n",
       "17                        Software Engineer\n",
       "18                 Senior Software Engineer\n",
       "19      Senior Software Engineer Salesforce"
      ]
     },
     "execution_count": 21,
     "metadata": {},
     "output_type": "execute_result"
    }
   ],
   "source": [
    "df=pd.DataFrame(job_profiles_section,columns=column)\n",
    "df"
   ]
  },
  {
   "cell_type": "code",
   "execution_count": 22,
   "id": "16d15422-72a5-446b-8d5c-52ff6a1f8d14",
   "metadata": {},
   "outputs": [],
   "source": [
    "driver.quit()"
   ]
  },
  {
   "cell_type": "code",
   "execution_count": null,
   "id": "ea7371a8-01ac-411f-8c1a-b0193f377857",
   "metadata": {},
   "outputs": [],
   "source": []
  }
 ],
 "metadata": {
  "kernelspec": {
   "display_name": "Python 3 (ipykernel)",
   "language": "python",
   "name": "python3"
  },
  "language_info": {
   "codemirror_mode": {
    "name": "ipython",
    "version": 3
   },
   "file_extension": ".py",
   "mimetype": "text/x-python",
   "name": "python",
   "nbconvert_exporter": "python",
   "pygments_lexer": "ipython3",
   "version": "3.12.7"
  }
 },
 "nbformat": 4,
 "nbformat_minor": 5
}
