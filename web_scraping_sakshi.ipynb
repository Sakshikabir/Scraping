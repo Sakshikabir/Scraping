{
 "cells": [
  {
   "cell_type": "markdown",
   "id": "7bb3a500-c587-4238-930b-df2016d2f2a5",
   "metadata": {},
   "source": [
    "<div style=\"background-color:rgba(40, 224, 224, 1); padding: 10px; height: 80px; border-radius: 15px;\">\n",
    "    <div style=\"font-family: 'Georgia', serif; font-size: 20px; padding: 10px; text-align: centre; position: absolute; right: 20px;\">\n",
    "        Sakshi <br>\n",
    "        <span style=\"font-family: 'Arial',serif;font-size: 15px; padding:10px;color: #0a0a0a;text-align: left;\">Data Analytics Trainee</span> \n",
    "    </div>\n",
    "</div>"
   ]
  },
  {
   "cell_type": "markdown",
   "id": "56546662-9e58-42ef-9f81-70c0dd5e6d46",
   "metadata": {},
   "source": [
    "<div style=\"background-color: #002147; padding: 10px; text-align: center; color: white; font-size: 32px; font-family: 'Arial', sans-serif;\">\n",
    "    Web Scraping \n",
    "    <br><br>\n",
    "\n",
    "</div>"
   ]
  },
  {
   "cell_type": "markdown",
   "id": "3a299837-3437-4a98-a9e6-5666d23f9942",
   "metadata": {},
   "source": [
    "<div style=\"background-color:LIGHTYELLOW ; color: black ; padding: 4px;\">\n",
    "    <h3>AGENDA\n",
    "</h3> \n",
    "\n",
    "\n",
    "[Web Scraping](#Web-Scraping) \n",
    "\n",
    "[How is Web Scraping Done?](#How-is-Web-Scraping-Done?)\n",
    "\n",
    "[Import libraray](#Import-libraray)\n",
    "\n",
    "[Load the HTML file as text then storing in a variable](#Load-the-HTML-file-as-text-then-storing-in-a-variable)\n",
    "\n",
    "[Load using the requests package](#Load-using-the-requests-package)\n",
    "\n",
    "[Prettify the code](#Prettify-the-code)\n",
    "\n",
    "[Finding all division class that contain the details](#Finding-all-division-class-that-contain-the-details)\n",
    "\n",
    "[Finding the number of class](#Finding-the-number-of-class)\n",
    "\n",
    "[Create empty List](#Create-empty-List)\n",
    "\n",
    "[Accessing required details](#Accessing-required-details)\n",
    "\n",
    "[Convert it into DataFrame](#Convert-it-into-DataFrame)\n",
    "\n",
    "[Saving or Storing](#Saving-or-Storing)\n",
    "\n",
    "</div> "
   ]
  },
  {
   "cell_type": "markdown",
   "id": "87f1cb2e-44cd-4ccd-b0dc-2ec318dacc50",
   "metadata": {},
   "source": [
    "# Web Scraping \n"
   ]
  },
  {
   "cell_type": "markdown",
   "id": "4ec3bd28-ea02-4ba9-bb64-99b237761909",
   "metadata": {},
   "source": [
    "<h5><p>Web scraping is a powerful technique used to extract data from websites.\n",
    "\n",
    "It involves fetching web pages and parsing their content to retrieve specific information, which can be stored for further analysis or use.\n",
    "\n",
    "Web scraping is commonly used for data collection, research, and various applications across different industries.</p></h5>"
   ]
  },
  {
   "cell_type": "markdown",
   "id": "a30aea3f-88af-4e26-a157-030fc6fe9e89",
   "metadata": {},
   "source": [
    "<h4><p>Data Collection: Web scraping allows for the automated gathering of data from multiple online sources, making it easier to collect large datasets for analysis or research.\n",
    "\n",
    "Dynamic Content Extraction: Many websites display dynamic content that may be difficult or impossible to collect manually. Web scraping can efficiently extract this data.\n",
    "\n",
    "Time Efficiency: Automating the data collection process saves time and reduces human error, enabling faster and more accurate results.\n",
    "\n",
    "Access to Unstructured Data: A significant amount of information on the web is unstructured. Web scraping helps convert this data into structured formats, facilitating analysis and integration.\n",
    "\n",
    "Cost-Effectiveness: By automating data collection, businesses and researchers can reduce the need for extensive human resources, lowering operational costs.</h4></p>"
   ]
  },
  {
   "cell_type": "markdown",
   "id": "c5e1aac5-2ccc-4005-89cd-29e35fa8fbcf",
   "metadata": {},
   "source": [
    "# How is Web Scraping Done?\n"
   ]
  },
  {
   "cell_type": "markdown",
   "id": "192d2211-f58e-4836-b81e-a11292bec193",
   "metadata": {},
   "source": [
    "<h2><p>Web scraping typically involves the following steps:</p>\n",
    "<p>\n",
    "<ul><li><b>Sending an HTTP Request:</b> A request is sent to the target web server to retrieve the desired web page.\n",
    "</li></p>\n",
    "    <p><li><b>Retrieving Web Page Content:</b> The server responds with the web page content, usually in HTML format.\n",
    "</li></p>\n",
    "<p><li><b>Parsing the HTML: </b>The HTML content is parsed to locate specific data elements using libraries or tools designed for this purpose (e.g., BeautifulSoup, Scrapy).</li></p>\n",
    "\n",
    "<p><li><b>Extracting Data:</b>The relevant data is extracted from the parsed HTML structure based on predefined rules or criteria.</li></p>\n",
    "\n",
    "<p><li><b>Storing Data:</b> The extracted data can be stored in various formats, such as CSV, JSON, or databases, for further analysis or processing.</li></p>\n",
    "\n",
    "<p><li><b>Handling Challenges:</b> Web scrapers may need to address challenges such as anti-scraping measures, dynamic content loading (JavaScript), and legal considerations.</li></p>\n",
    "</ul>"
   ]
  },
  {
   "cell_type": "markdown",
   "id": "726d675b-37b3-4913-802c-cdcfd7ea84d0",
   "metadata": {},
   "source": [
    "# Import libraray\n"
   ]
  },
  {
   "cell_type": "markdown",
   "id": "c7da1c93-915d-4fcc-88a4-229a35b48add",
   "metadata": {},
   "source": [
    "### !pip install pandas\n"
   ]
  },
  {
   "cell_type": "code",
   "execution_count": 1,
   "id": "04481400-e9cb-49d9-9ce4-71eba8001b84",
   "metadata": {},
   "outputs": [],
   "source": [
    "\n",
    "import pandas as pd\n"
   ]
  },
  {
   "cell_type": "markdown",
   "id": "b8b2e477-419d-431a-8247-cfcea2439e9c",
   "metadata": {},
   "source": [
    "##  Load the HTML file as text then storing in a variable"
   ]
  },
  {
   "cell_type": "code",
   "execution_count": 2,
   "id": "58ff78ea-e61e-4cbe-a596-1369d95b1ea9",
   "metadata": {},
   "outputs": [],
   "source": [
    "html_doc = \"\"\"<!DOCTYPE html>\n",
    "<html lang=\"en\">\n",
    "<head>\n",
    "    <meta charset=\"UTF-8\">\n",
    "    <meta name=\"viewport\" content=\"width=device-width, initial-scale=1.0\">\n",
    "    <title>Sample Books Data</title>\n",
    "    <style>\n",
    "        body {\n",
    "            font-family: Arial, sans-serif;\n",
    "            margin: 20px;\n",
    "            background-color: #f8f8f8;\n",
    "        }\n",
    "        h1 {\n",
    "            text-align: center;\n",
    "            color: #333;\n",
    "        }\n",
    "        .book {\n",
    "            border: 1px solid #ccc;\n",
    "            padding: 15px;\n",
    "            margin: 10px;\n",
    "            border-radius: 5px;\n",
    "            background-color: #fff;\n",
    "        }\n",
    "        .title {\n",
    "            font-size: 1.5em;\n",
    "            color: #0056b3;\n",
    "        }\n",
    "        .author {\n",
    "            font-style: italic;\n",
    "            color: #555;\n",
    "        }\n",
    "        .price {\n",
    "            color: #d9534f;\n",
    "            font-weight: bold;\n",
    "        }\n",
    "        .description {\n",
    "            margin-top: 10px;\n",
    "        }\n",
    "        a {\n",
    "            color: #007bff;\n",
    "            text-decoration: none;\n",
    "        }\n",
    "        a:hover {\n",
    "            text-decoration: underline;\n",
    "        }\n",
    "    </style>\n",
    "</head>\n",
    "<body>\n",
    "    <h1>Books List</h1>\n",
    "    <div class=\"book\">\n",
    "        <p class=\"title\">\n",
    "            <b>The Great Gatsby</b>\n",
    "        </p>\n",
    "        <p class=\"author\">Author: F. Scott Fitzgerald</p>\n",
    "        <p class=\"price\">Price: $10.99</p>\n",
    "        <p class=\"publication-year\">Publication Year: 1925</p>\n",
    "        <p class=\"genre\">Genre: Fiction</p>\n",
    "        <p class=\"description\">\n",
    "            A novel about the American dream, set in the 1920s on Long Island.\n",
    "        </p>\n",
    "        <p>More Info: <a class=\"info-link\" href=\"http://example.com/gatsby\" id=\"link1\">Learn More</a></p>\n",
    "    </div>\n",
    "    <div class=\"book\">\n",
    "        <p class=\"title\">\n",
    "            <b>1984</b>\n",
    "        </p>\n",
    "        <p class=\"author\">Author: George Orwell</p>\n",
    "        <p class=\"price\">Price: $8.99</p>\n",
    "        <p class=\"publication-year\">Publication Year: 1949</p>\n",
    "        <p class=\"genre\">Genre: Dystopian</p>\n",
    "        <p class=\"description\">\n",
    "            A story about a totalitarian regime that uses surveillance and propaganda to control its citizens.\n",
    "        </p>\n",
    "        <p>More Info: <a class=\"info-link\" href=\"http://example.com/1984\" id=\"link2\">Learn More</a></p>\n",
    "    </div>\n",
    "    <div class=\"book\">\n",
    "        <p class=\"title\">\n",
    "            <b>To Kill a Mockingbird</b>\n",
    "        </p>\n",
    "        <p class=\"author\">Author: Harper Lee</p>\n",
    "        <p class=\"price\">Price: $7.99</p>\n",
    "        <p class=\"publication-year\">Publication Year: 1960</p>\n",
    "        <p class=\"genre\">Genre: Fiction</p>\n",
    "        <p class=\"description\">\n",
    "            A novel set in the Great Depression that addresses serious issues of race and injustice.\n",
    "        </p>\n",
    "        <p>More Info: <a class=\"info-link\" href=\"http://example.com/mockingbird\" id=\"link3\">Learn More</a></p>\n",
    "    </div>\n",
    "</body>\n",
    "</html>\n",
    "\"\"\""
   ]
  },
  {
   "cell_type": "markdown",
   "id": "f5e4060e-7f64-4a2e-87d1-582cefc47ec2",
   "metadata": {},
   "source": [
    "## Load using the requests package"
   ]
  },
  {
   "cell_type": "code",
   "execution_count": 3,
   "id": "7309e15b-d6b4-442f-a2c1-f53c4ceb93d5",
   "metadata": {},
   "outputs": [
    {
     "name": "stdout",
     "output_type": "stream",
     "text": [
      "Defaulting to user installation because normal site-packages is not writeable\n",
      "Requirement already satisfied: beautifulsoup4 in c:\\programdata\\anaconda3\\lib\\site-packages (4.12.3)\n",
      "Requirement already satisfied: soupsieve>1.2 in c:\\programdata\\anaconda3\\lib\\site-packages (from beautifulsoup4) (2.5)\n",
      "Note: you may need to restart the kernel to use updated packages.\n"
     ]
    }
   ],
   "source": [
    "pip install beautifulsoup4"
   ]
  },
  {
   "cell_type": "code",
   "execution_count": 4,
   "id": "534b6bb3-9a3e-479f-9ebb-6b32cfd81e2d",
   "metadata": {},
   "outputs": [],
   "source": [
    "from bs4 import BeautifulSoup"
   ]
  },
  {
   "cell_type": "code",
   "execution_count": 21,
   "id": "ca8f6dcd-e02d-4e8c-b34b-816d0b1e9268",
   "metadata": {
    "scrolled": true
   },
   "outputs": [
    {
     "data": {
      "text/plain": [
       "<!DOCTYPE html>\n",
       "\n",
       "<html lang=\"en\">\n",
       "<head>\n",
       "<meta charset=\"utf-8\"/>\n",
       "<meta content=\"width=device-width, initial-scale=1.0\" name=\"viewport\"/>\n",
       "<title>Sample Books Data</title>\n",
       "<style>\n",
       "        body {\n",
       "            font-family: Arial, sans-serif;\n",
       "            margin: 20px;\n",
       "            background-color: #f8f8f8;\n",
       "        }\n",
       "        h1 {\n",
       "            text-align: center;\n",
       "            color: #333;\n",
       "        }\n",
       "        .book {\n",
       "            border: 1px solid #ccc;\n",
       "            padding: 15px;\n",
       "            margin: 10px;\n",
       "            border-radius: 5px;\n",
       "            background-color: #fff;\n",
       "        }\n",
       "        .title {\n",
       "            font-size: 1.5em;\n",
       "            color: #0056b3;\n",
       "        }\n",
       "        .author {\n",
       "            font-style: italic;\n",
       "            color: #555;\n",
       "        }\n",
       "        .price {\n",
       "            color: #d9534f;\n",
       "            font-weight: bold;\n",
       "        }\n",
       "        .description {\n",
       "            margin-top: 10px;\n",
       "        }\n",
       "        a {\n",
       "            color: #007bff;\n",
       "            text-decoration: none;\n",
       "        }\n",
       "        a:hover {\n",
       "            text-decoration: underline;\n",
       "        }\n",
       "    </style>\n",
       "</head>\n",
       "<body>\n",
       "<h1>Books List</h1>\n",
       "<div class=\"book\">\n",
       "<p class=\"title\">\n",
       "<b>The Great Gatsby</b>\n",
       "</p>\n",
       "<p class=\"author\">Author: F. Scott Fitzgerald</p>\n",
       "<p class=\"price\">Price: $10.99</p>\n",
       "<p class=\"publication-year\">Publication Year: 1925</p>\n",
       "<p class=\"genre\">Genre: Fiction</p>\n",
       "<p class=\"description\">\n",
       "            A novel about the American dream, set in the 1920s on Long Island.\n",
       "        </p>\n",
       "<p>More Info: <a class=\"info-link\" href=\"http://example.com/gatsby\" id=\"link1\">Learn More</a></p>\n",
       "</div>\n",
       "<div class=\"book\">\n",
       "<p class=\"title\">\n",
       "<b>1984</b>\n",
       "</p>\n",
       "<p class=\"author\">Author: George Orwell</p>\n",
       "<p class=\"price\">Price: $8.99</p>\n",
       "<p class=\"publication-year\">Publication Year: 1949</p>\n",
       "<p class=\"genre\">Genre: Dystopian</p>\n",
       "<p class=\"description\">\n",
       "            A story about a totalitarian regime that uses surveillance and propaganda to control its citizens.\n",
       "        </p>\n",
       "<p>More Info: <a class=\"info-link\" href=\"http://example.com/1984\" id=\"link2\">Learn More</a></p>\n",
       "</div>\n",
       "<div class=\"book\">\n",
       "<p class=\"title\">\n",
       "<b>To Kill a Mockingbird</b>\n",
       "</p>\n",
       "<p class=\"author\">Author: Harper Lee</p>\n",
       "<p class=\"price\">Price: $7.99</p>\n",
       "<p class=\"publication-year\">Publication Year: 1960</p>\n",
       "<p class=\"genre\">Genre: Fiction</p>\n",
       "<p class=\"description\">\n",
       "            A novel set in the Great Depression that addresses serious issues of race and injustice.\n",
       "        </p>\n",
       "<p>More Info: <a class=\"info-link\" href=\"http://example.com/mockingbird\" id=\"link3\">Learn More</a></p>\n",
       "</div>\n",
       "</body>\n",
       "</html>"
      ]
     },
     "execution_count": 21,
     "metadata": {},
     "output_type": "execute_result"
    }
   ],
   "source": [
    "# Parse the HTML content with Beautiful Soup\n",
    "soup = BeautifulSoup(html_doc, 'html.parser')\n",
    "soup"
   ]
  },
  {
   "cell_type": "markdown",
   "id": "fbd8504b-33d3-4707-8502-ad2517623f5d",
   "metadata": {},
   "source": [
    "# Prettify the code"
   ]
  },
  {
   "cell_type": "code",
   "execution_count": 20,
   "id": "d1920429-c3fe-44b1-abfc-012840dca8fc",
   "metadata": {
    "scrolled": true
   },
   "outputs": [
    {
     "name": "stdout",
     "output_type": "stream",
     "text": [
      "<!DOCTYPE html>\n",
      "<html lang=\"en\">\n",
      " <head>\n",
      "  <meta charset=\"utf-8\"/>\n",
      "  <meta content=\"width=device-width, initial-scale=1.0\" name=\"viewport\"/>\n",
      "  <title>\n",
      "   Sample Books Data\n",
      "  </title>\n",
      "  <style>\n",
      "   body {\n",
      "            font-family: Arial, sans-serif;\n",
      "            margin: 20px;\n",
      "            background-color: #f8f8f8;\n",
      "        }\n",
      "        h1 {\n",
      "            text-align: center;\n",
      "            color: #333;\n",
      "        }\n",
      "        .book {\n",
      "            border: 1px solid #ccc;\n",
      "            padding: 15px;\n",
      "            margin: 10px;\n",
      "            border-radius: 5px;\n",
      "            background-color: #fff;\n",
      "        }\n",
      "        .title {\n",
      "            font-size: 1.5em;\n",
      "            color: #0056b3;\n",
      "        }\n",
      "        .author {\n",
      "            font-style: italic;\n",
      "            color: #555;\n",
      "        }\n",
      "        .price {\n",
      "            color: #d9534f;\n",
      "            font-weight: bold;\n",
      "        }\n",
      "        .description {\n",
      "            margin-top: 10px;\n",
      "        }\n",
      "        a {\n",
      "            color: #007bff;\n",
      "            text-decoration: none;\n",
      "        }\n",
      "        a:hover {\n",
      "            text-decoration: underline;\n",
      "        }\n",
      "  </style>\n",
      " </head>\n",
      " <body>\n",
      "  <h1>\n",
      "   Books List\n",
      "  </h1>\n",
      "  <div class=\"book\">\n",
      "   <p class=\"title\">\n",
      "    <b>\n",
      "     The Great Gatsby\n",
      "    </b>\n",
      "   </p>\n",
      "   <p class=\"author\">\n",
      "    Author: F. Scott Fitzgerald\n",
      "   </p>\n",
      "   <p class=\"price\">\n",
      "    Price: $10.99\n",
      "   </p>\n",
      "   <p class=\"publication-year\">\n",
      "    Publication Year: 1925\n",
      "   </p>\n",
      "   <p class=\"genre\">\n",
      "    Genre: Fiction\n",
      "   </p>\n",
      "   <p class=\"description\">\n",
      "    A novel about the American dream, set in the 1920s on Long Island.\n",
      "   </p>\n",
      "   <p>\n",
      "    More Info:\n",
      "    <a class=\"info-link\" href=\"http://example.com/gatsby\" id=\"link1\">\n",
      "     Learn More\n",
      "    </a>\n",
      "   </p>\n",
      "  </div>\n",
      "  <div class=\"book\">\n",
      "   <p class=\"title\">\n",
      "    <b>\n",
      "     1984\n",
      "    </b>\n",
      "   </p>\n",
      "   <p class=\"author\">\n",
      "    Author: George Orwell\n",
      "   </p>\n",
      "   <p class=\"price\">\n",
      "    Price: $8.99\n",
      "   </p>\n",
      "   <p class=\"publication-year\">\n",
      "    Publication Year: 1949\n",
      "   </p>\n",
      "   <p class=\"genre\">\n",
      "    Genre: Dystopian\n",
      "   </p>\n",
      "   <p class=\"description\">\n",
      "    A story about a totalitarian regime that uses surveillance and propaganda to control its citizens.\n",
      "   </p>\n",
      "   <p>\n",
      "    More Info:\n",
      "    <a class=\"info-link\" href=\"http://example.com/1984\" id=\"link2\">\n",
      "     Learn More\n",
      "    </a>\n",
      "   </p>\n",
      "  </div>\n",
      "  <div class=\"book\">\n",
      "   <p class=\"title\">\n",
      "    <b>\n",
      "     To Kill a Mockingbird\n",
      "    </b>\n",
      "   </p>\n",
      "   <p class=\"author\">\n",
      "    Author: Harper Lee\n",
      "   </p>\n",
      "   <p class=\"price\">\n",
      "    Price: $7.99\n",
      "   </p>\n",
      "   <p class=\"publication-year\">\n",
      "    Publication Year: 1960\n",
      "   </p>\n",
      "   <p class=\"genre\">\n",
      "    Genre: Fiction\n",
      "   </p>\n",
      "   <p class=\"description\">\n",
      "    A novel set in the Great Depression that addresses serious issues of race and injustice.\n",
      "   </p>\n",
      "   <p>\n",
      "    More Info:\n",
      "    <a class=\"info-link\" href=\"http://example.com/mockingbird\" id=\"link3\">\n",
      "     Learn More\n",
      "    </a>\n",
      "   </p>\n",
      "  </div>\n",
      " </body>\n",
      "</html>\n",
      "\n"
     ]
    }
   ],
   "source": [
    "\n",
    "print(soup.prettify())"
   ]
  },
  {
   "cell_type": "markdown",
   "id": "2a5e9823-8b92-411c-9194-8a0798a3404d",
   "metadata": {},
   "source": [
    "## Finding all division class that contain the details"
   ]
  },
  {
   "cell_type": "code",
   "execution_count": 22,
   "id": "4bd83fe8-0221-46d5-980c-bed2bdf6ed71",
   "metadata": {
    "scrolled": true
   },
   "outputs": [
    {
     "data": {
      "text/plain": [
       "[<div class=\"book\">\n",
       " <p class=\"title\">\n",
       " <b>The Great Gatsby</b>\n",
       " </p>\n",
       " <p class=\"author\">Author: F. Scott Fitzgerald</p>\n",
       " <p class=\"price\">Price: $10.99</p>\n",
       " <p class=\"publication-year\">Publication Year: 1925</p>\n",
       " <p class=\"genre\">Genre: Fiction</p>\n",
       " <p class=\"description\">\n",
       "             A novel about the American dream, set in the 1920s on Long Island.\n",
       "         </p>\n",
       " <p>More Info: <a class=\"info-link\" href=\"http://example.com/gatsby\" id=\"link1\">Learn More</a></p>\n",
       " </div>,\n",
       " <div class=\"book\">\n",
       " <p class=\"title\">\n",
       " <b>1984</b>\n",
       " </p>\n",
       " <p class=\"author\">Author: George Orwell</p>\n",
       " <p class=\"price\">Price: $8.99</p>\n",
       " <p class=\"publication-year\">Publication Year: 1949</p>\n",
       " <p class=\"genre\">Genre: Dystopian</p>\n",
       " <p class=\"description\">\n",
       "             A story about a totalitarian regime that uses surveillance and propaganda to control its citizens.\n",
       "         </p>\n",
       " <p>More Info: <a class=\"info-link\" href=\"http://example.com/1984\" id=\"link2\">Learn More</a></p>\n",
       " </div>,\n",
       " <div class=\"book\">\n",
       " <p class=\"title\">\n",
       " <b>To Kill a Mockingbird</b>\n",
       " </p>\n",
       " <p class=\"author\">Author: Harper Lee</p>\n",
       " <p class=\"price\">Price: $7.99</p>\n",
       " <p class=\"publication-year\">Publication Year: 1960</p>\n",
       " <p class=\"genre\">Genre: Fiction</p>\n",
       " <p class=\"description\">\n",
       "             A novel set in the Great Depression that addresses serious issues of race and injustice.\n",
       "         </p>\n",
       " <p>More Info: <a class=\"info-link\" href=\"http://example.com/mockingbird\" id=\"link3\">Learn More</a></p>\n",
       " </div>]"
      ]
     },
     "execution_count": 22,
     "metadata": {},
     "output_type": "execute_result"
    }
   ],
   "source": [
    "books=soup.find_all('div', class_='book')\n",
    "books"
   ]
  },
  {
   "cell_type": "markdown",
   "id": "7ef7a81d-2c58-48ad-81fb-70b46d35fe87",
   "metadata": {},
   "source": [
    "## Finding the number of class"
   ]
  },
  {
   "cell_type": "code",
   "execution_count": 23,
   "id": "909a4091-01c9-40c8-9df8-4d9f373e71c2",
   "metadata": {},
   "outputs": [
    {
     "data": {
      "text/plain": [
       "3"
      ]
     },
     "execution_count": 23,
     "metadata": {},
     "output_type": "execute_result"
    }
   ],
   "source": [
    "len(books)"
   ]
  },
  {
   "cell_type": "markdown",
   "id": "64fa989c-0e7a-4830-8d07-33fa94d2e865",
   "metadata": {},
   "source": [
    "## Create empty List"
   ]
  },
  {
   "cell_type": "code",
   "execution_count": 24,
   "id": "1ee0fb9b-feaa-47dd-b536-3079ae865e20",
   "metadata": {},
   "outputs": [],
   "source": [
    "book_data = []"
   ]
  },
  {
   "cell_type": "markdown",
   "id": "06e96d9d-6e4c-4d0b-8065-f38440bc81fe",
   "metadata": {},
   "source": [
    "## Accessing required details"
   ]
  },
  {
   "cell_type": "markdown",
   "id": "edb333ff-a662-480a-8c35-97efd00275d6",
   "metadata": {},
   "source": [
    "### -->Title of the books"
   ]
  },
  {
   "cell_type": "code",
   "execution_count": 10,
   "id": "8efdcfbf-1d2a-4d30-abda-385dc7db27c0",
   "metadata": {},
   "outputs": [
    {
     "data": {
      "text/plain": [
       "'To Kill a Mockingbird'"
      ]
     },
     "execution_count": 10,
     "metadata": {},
     "output_type": "execute_result"
    }
   ],
   "source": [
    "for book in books:\n",
    "    title = book.find('p',class_='title').get_text(strip=True)\n",
    "title"
   ]
  },
  {
   "cell_type": "markdown",
   "id": "72e9f545-d093-4bf1-a98b-fd61185c5bcf",
   "metadata": {},
   "source": [
    "### -->Author of books"
   ]
  },
  {
   "cell_type": "code",
   "execution_count": 11,
   "id": "55154a4e-200c-4c39-b778-6df415b98bf7",
   "metadata": {},
   "outputs": [
    {
     "data": {
      "text/plain": [
       "'Author: Harper Lee'"
      ]
     },
     "execution_count": 11,
     "metadata": {},
     "output_type": "execute_result"
    }
   ],
   "source": [
    "for book in books:\n",
    "    title = book.find('p',class_='title').get_text(strip=True)\n",
    "    author = book.find('p',class_='author').get_text(strip=True)\n",
    "author"
   ]
  },
  {
   "cell_type": "markdown",
   "id": "b6d1edac-54c3-4eb5-a9c2-9d8da62d922b",
   "metadata": {},
   "source": [
    "### -->finding genre "
   ]
  },
  {
   "cell_type": "code",
   "execution_count": 12,
   "id": "97132547-dced-490b-b8b8-21d293477fae",
   "metadata": {},
   "outputs": [
    {
     "data": {
      "text/plain": [
       "'Genre: Fiction'"
      ]
     },
     "execution_count": 12,
     "metadata": {},
     "output_type": "execute_result"
    }
   ],
   "source": [
    "for book in books:\n",
    "    title = book.find('p',class_='title').get_text(strip=True)\n",
    "    author = book.find('p',class_='author').get_text(strip=True)\n",
    "    price = book.find('p',class_='price').get_text(strip=True)\n",
    "    publication_year=book.find('p',class_='publication-year').get_text(strip=True)\n",
    "    genre = book.find('p', class_='genre').get_text(strip=True)\n",
    "    description = book.find('p',class_='description').get_text(strip=True)\n",
    "genre"
   ]
  },
  {
   "cell_type": "markdown",
   "id": "0b240a7c-9bff-4bc3-9cd5-18803c33b4f2",
   "metadata": {},
   "source": [
    "### -->Full book info"
   ]
  },
  {
   "cell_type": "code",
   "execution_count": 25,
   "id": "b9e3cb25-d940-4270-8d0c-31e5ba6b14ae",
   "metadata": {},
   "outputs": [],
   "source": [
    "for book in books:\n",
    "    title = book.find('p',class_='title').get_text(strip=True)\n",
    "    author = book.find('p',class_='author').get_text(strip=True)\n",
    "    price = book.find('p',class_='price').get_text(strip=True)\n",
    "    publication_year=book.find('p',class_='publication-year').get_text(strip=True)\n",
    "    genre = book.find('p', class_='genre').get_text(strip=True)\n",
    "    description = book.find('p',class_='description').get_text(strip=True)\n",
    "    book_data.append({\n",
    "        'Title': title,\n",
    "        'Author': author,\n",
    "        'Price': price,\n",
    "        'Publication-year': publication_year,\n",
    "        'Genre': genre,\n",
    "        'Description': description,\n",
    "    })"
   ]
  },
  {
   "cell_type": "code",
   "execution_count": 26,
   "id": "b3f7cac3-5994-483d-9c2f-dc0c49650093",
   "metadata": {},
   "outputs": [
    {
     "data": {
      "text/plain": [
       "[{'Title': 'The Great Gatsby',\n",
       "  'Author': 'Author: F. Scott Fitzgerald',\n",
       "  'Price': 'Price: $10.99',\n",
       "  'Publication-year': 'Publication Year: 1925',\n",
       "  'Genre': 'Genre: Fiction',\n",
       "  'Description': 'A novel about the American dream, set in the 1920s on Long Island.'},\n",
       " {'Title': '1984',\n",
       "  'Author': 'Author: George Orwell',\n",
       "  'Price': 'Price: $8.99',\n",
       "  'Publication-year': 'Publication Year: 1949',\n",
       "  'Genre': 'Genre: Dystopian',\n",
       "  'Description': 'A story about a totalitarian regime that uses surveillance and propaganda to control its citizens.'},\n",
       " {'Title': 'To Kill a Mockingbird',\n",
       "  'Author': 'Author: Harper Lee',\n",
       "  'Price': 'Price: $7.99',\n",
       "  'Publication-year': 'Publication Year: 1960',\n",
       "  'Genre': 'Genre: Fiction',\n",
       "  'Description': 'A novel set in the Great Depression that addresses serious issues of race and injustice.'}]"
      ]
     },
     "execution_count": 26,
     "metadata": {},
     "output_type": "execute_result"
    }
   ],
   "source": [
    "book_data"
   ]
  },
  {
   "cell_type": "markdown",
   "id": "92276db6-a4e3-4c72-80bb-86ad8ccc4b70",
   "metadata": {},
   "source": [
    "## Convert it into DataFrame"
   ]
  },
  {
   "cell_type": "code",
   "execution_count": 27,
   "id": "5ab4065a-7aa4-4b9b-9b25-8a091b4f65d4",
   "metadata": {},
   "outputs": [
    {
     "data": {
      "text/html": [
       "<div>\n",
       "<style scoped>\n",
       "    .dataframe tbody tr th:only-of-type {\n",
       "        vertical-align: middle;\n",
       "    }\n",
       "\n",
       "    .dataframe tbody tr th {\n",
       "        vertical-align: top;\n",
       "    }\n",
       "\n",
       "    .dataframe thead th {\n",
       "        text-align: right;\n",
       "    }\n",
       "</style>\n",
       "<table border=\"1\" class=\"dataframe\">\n",
       "  <thead>\n",
       "    <tr style=\"text-align: right;\">\n",
       "      <th></th>\n",
       "      <th>Title</th>\n",
       "      <th>Author</th>\n",
       "      <th>Price</th>\n",
       "      <th>Publication-year</th>\n",
       "      <th>Genre</th>\n",
       "      <th>Description</th>\n",
       "    </tr>\n",
       "  </thead>\n",
       "  <tbody>\n",
       "    <tr>\n",
       "      <th>0</th>\n",
       "      <td>The Great Gatsby</td>\n",
       "      <td>Author: F. Scott Fitzgerald</td>\n",
       "      <td>Price: $10.99</td>\n",
       "      <td>Publication Year: 1925</td>\n",
       "      <td>Genre: Fiction</td>\n",
       "      <td>A novel about the American dream, set in the 1...</td>\n",
       "    </tr>\n",
       "    <tr>\n",
       "      <th>1</th>\n",
       "      <td>1984</td>\n",
       "      <td>Author: George Orwell</td>\n",
       "      <td>Price: $8.99</td>\n",
       "      <td>Publication Year: 1949</td>\n",
       "      <td>Genre: Dystopian</td>\n",
       "      <td>A story about a totalitarian regime that uses ...</td>\n",
       "    </tr>\n",
       "    <tr>\n",
       "      <th>2</th>\n",
       "      <td>To Kill a Mockingbird</td>\n",
       "      <td>Author: Harper Lee</td>\n",
       "      <td>Price: $7.99</td>\n",
       "      <td>Publication Year: 1960</td>\n",
       "      <td>Genre: Fiction</td>\n",
       "      <td>A novel set in the Great Depression that addre...</td>\n",
       "    </tr>\n",
       "  </tbody>\n",
       "</table>\n",
       "</div>"
      ],
      "text/plain": [
       "                   Title                       Author          Price  \\\n",
       "0       The Great Gatsby  Author: F. Scott Fitzgerald  Price: $10.99   \n",
       "1                   1984        Author: George Orwell   Price: $8.99   \n",
       "2  To Kill a Mockingbird           Author: Harper Lee   Price: $7.99   \n",
       "\n",
       "         Publication-year             Genre  \\\n",
       "0  Publication Year: 1925    Genre: Fiction   \n",
       "1  Publication Year: 1949  Genre: Dystopian   \n",
       "2  Publication Year: 1960    Genre: Fiction   \n",
       "\n",
       "                                         Description  \n",
       "0  A novel about the American dream, set in the 1...  \n",
       "1  A story about a totalitarian regime that uses ...  \n",
       "2  A novel set in the Great Depression that addre...  "
      ]
     },
     "execution_count": 27,
     "metadata": {},
     "output_type": "execute_result"
    }
   ],
   "source": [
    "df = pd.DataFrame(book_data)\n",
    "df"
   ]
  },
  {
   "cell_type": "markdown",
   "id": "2cda5276-7cfd-441a-9209-a6c6166e9643",
   "metadata": {},
   "source": [
    "# Saving or Storing"
   ]
  },
  {
   "cell_type": "code",
   "execution_count": 16,
   "id": "45547db1-8a38-4ad3-a778-a3d91e117c9c",
   "metadata": {},
   "outputs": [
    {
     "data": {
      "text/plain": [
       "<a class=\"info-link\" href=\"http://example.com/gatsby\" id=\"link1\">Learn More</a>"
      ]
     },
     "execution_count": 16,
     "metadata": {},
     "output_type": "execute_result"
    }
   ],
   "source": [
    "soup.a"
   ]
  },
  {
   "cell_type": "code",
   "execution_count": 17,
   "id": "69c952b4-1138-4672-90e4-6ae5af4d6e13",
   "metadata": {},
   "outputs": [
    {
     "data": {
      "text/plain": [
       "<title>Sample Books Data</title>"
      ]
     },
     "execution_count": 17,
     "metadata": {},
     "output_type": "execute_result"
    }
   ],
   "source": [
    "soup.title"
   ]
  },
  {
   "cell_type": "code",
   "execution_count": 18,
   "id": "7bd03250-9e39-4b81-a79c-f4b137984b51",
   "metadata": {},
   "outputs": [
    {
     "data": {
      "text/plain": [
       "[<a class=\"info-link\" href=\"http://example.com/gatsby\" id=\"link1\">Learn More</a>,\n",
       " <a class=\"info-link\" href=\"http://example.com/1984\" id=\"link2\">Learn More</a>,\n",
       " <a class=\"info-link\" href=\"http://example.com/mockingbird\" id=\"link3\">Learn More</a>]"
      ]
     },
     "execution_count": 18,
     "metadata": {},
     "output_type": "execute_result"
    }
   ],
   "source": [
    "soup.find_all('a')"
   ]
  },
  {
   "cell_type": "code",
   "execution_count": 19,
   "id": "77901d78-b9e9-4746-a6d0-de5632cbd099",
   "metadata": {},
   "outputs": [],
   "source": [
    "# Saving or Storing\n",
    "df.to_csv(\"web_ex.csv\",index=False)\n",
    "df.to_excel(\"web_ex.xlsx\")\n"
   ]
  },
  {
   "cell_type": "code",
   "execution_count": null,
   "id": "876a7df4-0a43-4717-9846-25ce1bf52bd6",
   "metadata": {},
   "outputs": [],
   "source": []
  }
 ],
 "metadata": {
  "kernelspec": {
   "display_name": "Python 3 (ipykernel)",
   "language": "python",
   "name": "python3"
  },
  "language_info": {
   "codemirror_mode": {
    "name": "ipython",
    "version": 3
   },
   "file_extension": ".py",
   "mimetype": "text/x-python",
   "name": "python",
   "nbconvert_exporter": "python",
   "pygments_lexer": "ipython3",
   "version": "3.13.2"
  }
 },
 "nbformat": 4,
 "nbformat_minor": 5
}
